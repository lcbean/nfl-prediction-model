{
 "cells": [
  {
   "cell_type": "code",
   "execution_count": 17,
   "metadata": {},
   "outputs": [],
   "source": [
    "import random\n",
    "import time\n",
    "import pandas as pd\n",
    "\n"
   ]
  },
  {
   "cell_type": "code",
   "execution_count": 18,
   "metadata": {},
   "outputs": [
    {
     "name": "stdout",
     "output_type": "stream",
     "text": [
      "number of seasons=10\n",
      "number of teams=32\n"
     ]
    }
   ],
   "source": [
    "seasons = [str(season) for season in range(2013, 2023)]\n",
    "\n",
    "print(f'number of seasons={len(seasons)}')\n",
    "\n",
    "team_abbrs = ['crd', 'atl', 'rav', 'buf', 'car', 'chi', 'cin', 'cle', 'dal', 'den', 'det', 'gnb', 'htx', 'clt', 'jax', 'kan', 'sdg', 'ram', 'rai', 'mia', 'min', 'nwe', 'nor', 'nyg', 'nyj', 'phi', 'pit', 'sea', 'sfo', 'tam', 'oti', 'was']\n",
    "\n",
    "print(f'number of teams={len(team_abbrs)}')\n",
    "\n",
    "\n",
    "\n"
   ]
  },
  {
   "cell_type": "code",
   "execution_count": 20,
   "metadata": {},
   "outputs": [
    {
     "name": "stdout",
     "output_type": "stream",
     "text": [
      "https://www.pro-football-reference.com/teams/crd/2013/gamelog/\n"
     ]
    },
    {
     "ename": "KeyboardInterrupt",
     "evalue": "",
     "output_type": "error",
     "traceback": [
      "\u001b[0;31m---------------------------------------------------------------------------\u001b[0m",
      "\u001b[0;31mKeyboardInterrupt\u001b[0m                         Traceback (most recent call last)",
      "Cell \u001b[0;32mIn[20], line 26\u001b[0m\n\u001b[1;32m     23\u001b[0m         nfl_df \u001b[38;5;241m=\u001b[39m pd\u001b[38;5;241m.\u001b[39mconcat([nfl_df, team_df], ignore_index\u001b[38;5;241m=\u001b[39m\u001b[38;5;28;01mTrue\u001b[39;00m)\n\u001b[1;32m     25\u001b[0m         \u001b[38;5;66;03m# pause program to abide by website rules\u001b[39;00m\n\u001b[0;32m---> 26\u001b[0m         time\u001b[38;5;241m.\u001b[39msleep(random\u001b[38;5;241m.\u001b[39mrandint(\u001b[38;5;241m7\u001b[39m, \u001b[38;5;241m8\u001b[39m))\n\u001b[1;32m     27\u001b[0m \u001b[38;5;28mprint\u001b[39m(nfl_df)\n",
      "\u001b[0;31mKeyboardInterrupt\u001b[0m: "
     ]
    }
   ],
   "source": [
    "nfl_df = pd.DataFrame()\n",
    "\n",
    "for season in seasons: \n",
    "    for team in team_abbrs:\n",
    "        url = 'https://www.pro-football-reference.com/teams/' + team + '/' + season + '/gamelog/'\n",
    "        print(url)\n",
    "\n",
    "        # offensive stats\n",
    "        off_df = pd.read_html(url, header=1, attrs={'id':'gamelog' + season})[0]\n",
    "        \n",
    "        # defensive stats\n",
    "        def_df = pd.read_html(url, header=1, attrs={'id':'gamelog_opp' + season})[0]\n",
    "\n",
    "        # concat defensive and offensive\n",
    "        team_df = pd.concat([off_df, def_df], axis=1)\n",
    "\n",
    "        # insert season into df\n",
    "        team_df.insert(loc=0, column='Season', value=season)\n",
    "\n",
    "        # insert team\n",
    "        team_df.insert(loc=2, column='Team', value=team.upper())\n",
    "\n",
    "        nfl_df = pd.concat([nfl_df, team_df], ignore_index=True)\n",
    "\n",
    "        # pause program to abide by website rules\n",
    "        time.sleep(random.randint(7, 8))\n",
    "print(nfl_df)\n",
    "\n",
    "    \n"
   ]
  },
  {
   "cell_type": "code",
   "execution_count": null,
   "metadata": {},
   "outputs": [],
   "source": [
    "nfl_df.to_csv('nfl_gamelogs_2013-2023.csv', index=False)"
   ]
  },
  {
   "cell_type": "code",
   "execution_count": null,
   "metadata": {},
   "outputs": [
    {
     "name": "stdout",
     "output_type": "stream",
     "text": [
      "   Season  Week Team  Day          Date Unnamed: 3 Unnamed: 4   OT Unnamed: 6  \\\n",
      "0    2013     1  CRD  Sun   September 8   boxscore          L  NaN          @   \n",
      "1    2013     2  CRD  Sun  September 15   boxscore          W  NaN        NaN   \n",
      "2    2013     3  CRD  Sun  September 22   boxscore          L  NaN          @   \n",
      "3    2013     4  CRD  Sun  September 29   boxscore          W  NaN          @   \n",
      "4    2013     5  CRD  Sun     October 6   boxscore          W  NaN        NaN   \n",
      "..    ...   ...  ...  ...           ...        ...        ...  ...        ...   \n",
      "59   2013    13  BUF  Sun    December 1   boxscore          L   OT        NaN   \n",
      "60   2013    14  BUF  Sun    December 8   boxscore          L  NaN          @   \n",
      "61   2013    15  BUF  Sun   December 15   boxscore          W  NaN          @   \n",
      "62   2013    16  BUF  Sun   December 22   boxscore          W  NaN        NaN   \n",
      "63   2013    17  BUF  Sun   December 29   boxscore          L  NaN          @   \n",
      "\n",
      "                     Opp  ...  FGA  XPM  XPA  Pnt  Yds.3  3DConv  3DAtt  \\\n",
      "0         St. Louis Rams  ...    4    1    1    3    147       4     11   \n",
      "1          Detroit Lions  ...    2    3    3    5    261       3     11   \n",
      "2     New Orleans Saints  ...    1    4    4    4    198       7     13   \n",
      "3   Tampa Bay Buccaneers  ...    1    1    1    8    322       7     18   \n",
      "4      Carolina Panthers  ...    2    0    0    4    195       5     12   \n",
      "..                   ...  ...  ...  ...  ...  ...    ...     ...    ...   \n",
      "59       Atlanta Falcons  ...    2    4    4    7    278      10     18   \n",
      "60  Tampa Bay Buccaneers  ...    2    3    3    8    357       4     15   \n",
      "61  Jacksonville Jaguars  ...    2    2    2    3    136       8     15   \n",
      "62        Miami Dolphins  ...    0    0    0   10    501       2     14   \n",
      "63  New England Patriots  ...    4    2    2    3    137       4     13   \n",
      "\n",
      "    4DConv  4DAtt    ToP  \n",
      "0        0      0  28:35  \n",
      "1        0      1  28:41  \n",
      "2        0      0  35:31  \n",
      "3        1      1  34:05  \n",
      "4        0      1  31:04  \n",
      "..     ...    ...    ...  \n",
      "59       0      0  38:09  \n",
      "60       0      0  31:50  \n",
      "61       0      1  27:25  \n",
      "62       0      1  23:29  \n",
      "63       0      0  32:47  \n",
      "\n",
      "[64 rows x 74 columns]\n"
     ]
    }
   ],
   "source": [
    "print(nfl_df)"
   ]
  }
 ],
 "metadata": {
  "kernelspec": {
   "display_name": "base",
   "language": "python",
   "name": "python3"
  },
  "language_info": {
   "codemirror_mode": {
    "name": "ipython",
    "version": 3
   },
   "file_extension": ".py",
   "mimetype": "text/x-python",
   "name": "python",
   "nbconvert_exporter": "python",
   "pygments_lexer": "ipython3",
   "version": "3.12.4"
  }
 },
 "nbformat": 4,
 "nbformat_minor": 2
}
