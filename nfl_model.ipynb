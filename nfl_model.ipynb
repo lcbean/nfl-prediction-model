{
 "cells": [
  {
   "cell_type": "code",
   "execution_count": 1,
   "metadata": {},
   "outputs": [],
   "source": [
    "import numpy as np\n",
    "import pandas as pd\n",
    "import matplotlib.pyplot as plt\n",
    "\n",
    "from sklearn.neighbors import KNeighborsClassifier, NearestNeighbors\n",
    "from sklearn.metrics import accuracy_score, classification_report\n",
    "from sklearn.metrics import confusion_matrix, ConfusionMatrixDisplay"
   ]
  },
  {
   "cell_type": "code",
   "execution_count": 3,
   "metadata": {},
   "outputs": [
    {
     "name": "stdout",
     "output_type": "stream",
     "text": [
      "<class 'pandas.core.frame.DataFrame'>\n",
      "RangeIndex: 14073 entries, 0 to 14072\n",
      "Data columns (total 17 columns):\n",
      " #   Column               Non-Null Count  Dtype  \n",
      "---  ------               --------------  -----  \n",
      " 0   schedule_date        14073 non-null  object \n",
      " 1   schedule_season      14073 non-null  int64  \n",
      " 2   schedule_week        14073 non-null  object \n",
      " 3   schedule_playoff     14073 non-null  bool   \n",
      " 4   team_home            14073 non-null  object \n",
      " 5   score_home           13833 non-null  float64\n",
      " 6   score_away           13833 non-null  float64\n",
      " 7   team_away            14073 non-null  object \n",
      " 8   team_favorite_id     11381 non-null  object \n",
      " 9   spread_favorite      11354 non-null  float64\n",
      " 10  over_under_line      11344 non-null  object \n",
      " 11  stadium              14073 non-null  object \n",
      " 12  stadium_neutral      14073 non-null  bool   \n",
      " 13  weather_temperature  12525 non-null  float64\n",
      " 14  weather_wind_mph     12509 non-null  float64\n",
      " 15  weather_humidity     8476 non-null   float64\n",
      " 16  weather_detail       3127 non-null   object \n",
      "dtypes: bool(2), float64(6), int64(1), object(8)\n",
      "memory usage: 1.6+ MB\n",
      "None\n"
     ]
    }
   ],
   "source": [
    "nfl_df = pd.read_csv('spreadspoke_scores.csv')\n",
    "print(nfl_df)"
   ]
  }
 ],
 "metadata": {
  "kernelspec": {
   "display_name": "base",
   "language": "python",
   "name": "python3"
  },
  "language_info": {
   "codemirror_mode": {
    "name": "ipython",
    "version": 3
   },
   "file_extension": ".py",
   "mimetype": "text/x-python",
   "name": "python",
   "nbconvert_exporter": "python",
   "pygments_lexer": "ipython3",
   "version": "3.12.4"
  }
 },
 "nbformat": 4,
 "nbformat_minor": 2
}
